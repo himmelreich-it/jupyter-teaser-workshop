{
 "cells": [
  {
   "cell_type": "markdown",
   "metadata": {},
   "source": [
    "Title\n",
    "US Gross (in USD)\n",
    "Worldwide Gross (in USD)\n",
    "US DVD Sales\n",
    "Production Budget\n",
    "Release Date (format MMM D YYYY)\n",
    "MPAA Rating\n",
    "Running Time min\n",
    "Distributor\n",
    "Source\n",
    "Major Genre\n",
    "Creative Type\n",
    "Director\n",
    "Rotten Tomatoes Rating\n",
    "IMDB Rating\n",
    "IMDB Votes\n"
   ]
  }
 ],
 "metadata": {
  "language_info": {
   "name": "python"
  }
 },
 "nbformat": 4,
 "nbformat_minor": 2
}
