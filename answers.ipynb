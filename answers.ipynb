{
 "cells": [
  {
   "cell_type": "markdown",
   "metadata": {},
   "source": [
    "Title\n",
    "US Gross (in USD)\n",
    "Worldwide Gross (in USD)\n",
    "US DVD Sales\n",
    "Production Budget\n",
    "Release Date (format MMM D YYYY)\n",
    "MPAA Rating\n",
    "Running Time min\n",
    "Distributor\n",
    "Source\n",
    "Major Genre\n",
    "Creative Type\n",
    "Director\n",
    "Rotten Tomatoes Rating\n",
    "IMDB Rating\n",
    "IMDB Votes\n"
   ]
  },
  {
   "cell_type": "code",
   "execution_count": 3,
   "metadata": {},
   "outputs": [
    {
     "name": "stdout",
     "output_type": "stream",
     "text": [
      "                        Title   US Gross  Worldwide Gross  US DVD Sales  \\\n",
      "0              The Land Girls   146083.0         146083.0           NaN   \n",
      "1      First Love, Last Rites    10876.0          10876.0           NaN   \n",
      "2  I Married a Strange Person   203134.0         203134.0           NaN   \n",
      "3        Let's Talk About Sex   373615.0         373615.0           NaN   \n",
      "4                        Slam  1009819.0        1087521.0           NaN   \n",
      "\n",
      "   Production Budget Release Date MPAA Rating  Running Time min Distributor  \\\n",
      "0          8000000.0  Jun 12 1998           R               NaN    Gramercy   \n",
      "1           300000.0  Aug 07 1998           R               NaN      Strand   \n",
      "2           250000.0  Aug 28 1998        None               NaN   Lionsgate   \n",
      "3           300000.0  Sep 11 1998        None               NaN   Fine Line   \n",
      "4          1000000.0  Oct 09 1998           R               NaN     Trimark   \n",
      "\n",
      "                Source Major Genre         Creative Type Director  \\\n",
      "0                 None        None                  None     None   \n",
      "1                 None       Drama                  None     None   \n",
      "2                 None      Comedy                  None     None   \n",
      "3                 None      Comedy                  None     None   \n",
      "4  Original Screenplay       Drama  Contemporary Fiction     None   \n",
      "\n",
      "   Rotten Tomatoes Rating  IMDB Rating  IMDB Votes  \n",
      "0                     NaN          6.1      1071.0  \n",
      "1                     NaN          6.9       207.0  \n",
      "2                     NaN          6.8       865.0  \n",
      "3                    13.0          NaN         NaN  \n",
      "4                    62.0          3.4       165.0  \n"
     ]
    }
   ],
   "source": [
    "import pandas as pd\n",
    "\n",
    "# Load the movies data into a DataFrame\n",
    "df = pd.read_json('movies.json')\n",
    "\n",
    "print(df.head())\n"
   ]
  }
 ],
 "metadata": {
  "kernelspec": {
   "display_name": "analysis",
   "language": "python",
   "name": "python3"
  },
  "language_info": {
   "codemirror_mode": {
    "name": "ipython",
    "version": 3
   },
   "file_extension": ".py",
   "mimetype": "text/x-python",
   "name": "python",
   "nbconvert_exporter": "python",
   "pygments_lexer": "ipython3",
   "version": "3.13.2"
  }
 },
 "nbformat": 4,
 "nbformat_minor": 2
}
