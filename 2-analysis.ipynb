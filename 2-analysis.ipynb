{
 "cells": [
  {
   "cell_type": "markdown",
   "metadata": {},
   "source": [
    "### Load transactions\n",
    "This script loads all transactions from the `transactions` folder. This is about 180days, 2M+ transaction records. FYI: they do not contain PII data, no worries.\n",
    "\n",
    "It uses `pandas`, the most common data handling library in python."
   ]
  },
  {
   "cell_type": "code",
   "execution_count": null,
   "metadata": {},
   "outputs": [],
   "source": [
    "import pandas as pd\n",
    "import glob\n",
    "import os\n",
    "from pathlib import Path\n",
    "\n",
    "# Get all CSV files from the transactions folder\n",
    "csv_files = glob.glob(\"transactions/*.csv\")\n",
    "\n",
    "# Read and combine all CSV files\n",
    "dataframes = []\n",
    "for file in csv_files:\n",
    "    try:\n",
    "        df = pd.read_csv(file)\n",
    "        # Add a column to track which file each row came from\n",
    "        df['source_file'] = os.path.basename(file)\n",
    "        dataframes.append(df)\n",
    "    except Exception as e:\n",
    "        print(f\"Error loading {file}: {e}\")\n",
    "\n",
    "# Combine all dataframes\n",
    "if dataframes:\n",
    "    transactions = pd.concat(dataframes, ignore_index=True)\n",
    "    print(f\"Loaded {len(transactions):,} transactions\")\n",
    "    "
   ]
  },
  {
   "cell_type": "code",
   "execution_count": null,
   "metadata": {},
   "outputs": [],
   "source": [
    "# Convert Creation Date to datetime for proper date operations\n",
    "transactions['Creation Date'] = pd.to_datetime(transactions['Creation Date'])\n",
    "\n",
    "display(transactions.head())"
   ]
  },
  {
   "cell_type": "markdown",
   "metadata": {},
   "source": [
    "### User Names per Account with number of Transactions"
   ]
  },
  {
   "cell_type": "code",
   "execution_count": null,
   "metadata": {},
   "outputs": [],
   "source": [
    "# Analysis: Transactions per Account and User Name\n",
    "transactions_by_account_user = transactions.groupby(['Account', 'User Name']).size().reset_index(name='Transaction Count')\n",
    "\n",
    "# Sort by Account first, then by Transaction Count descending\n",
    "transactions_by_account_user = transactions_by_account_user.sort_values(['Account', 'Transaction Count'], ascending=[True, False])\n",
    "\n",
    "print(f\"Total unique Account-User combinations: {len(transactions_by_account_user)}\")\n",
    "print(\"\\nTransactions per Account and User Name:\")\n",
    "display(transactions_by_account_user)\n"
   ]
  },
  {
   "cell_type": "code",
   "execution_count": null,
   "metadata": {},
   "outputs": [],
   "source": [
    "# Write account analysis to CSV file\n",
    "transactions_by_account_user.to_csv('out/user-transaction-count.csv', index=False)"
   ]
  },
  {
   "cell_type": "markdown",
   "metadata": {},
   "source": [
    "### Merchant Accounts with User Name and Transaction Dates\n",
    "This analysis shows all accounts with their user names, transaction counts, and the date range of their transactions."
   ]
  },
  {
   "cell_type": "code",
   "execution_count": null,
   "metadata": {},
   "outputs": [],
   "source": [
    "# Analysis: All Accounts with User Names, transaction count, and date range\n",
    "account_analysis = transactions.groupby(['Account', 'User Name']).agg({\n",
    "    'PSP Reference': 'count',  # Count of transactions\n",
    "    'Creation Date': ['min', 'max']  # Earliest and latest dates\n",
    "}).reset_index()\n",
    "\n",
    "# Flatten the column names\n",
    "account_analysis.columns = ['Account', 'User Name', 'Transaction Count', 'Earliest Transaction', 'Latest Transaction']\n",
    "\n",
    "# Sort by Account, then by Transaction Count descending\n",
    "account_analysis = account_analysis.sort_values(['Account', 'Transaction Count'], ascending=[True, False])\n",
    "\n",
    "# Format the dates for better readability\n",
    "account_analysis['Earliest Transaction'] = account_analysis['Earliest Transaction'].dt.strftime('%Y-%m-%d %H:%M:%S')\n",
    "account_analysis['Latest Transaction'] = account_analysis['Latest Transaction'].dt.strftime('%Y-%m-%d %H:%M:%S')\n",
    "\n",
    "print(f\"Total unique Account-User combinations: {len(account_analysis)}\")\n",
    "print(f\"Date range of all transactions: {transactions['Creation Date'].min().strftime('%Y-%m-%d')} to {transactions['Creation Date'].max().strftime('%Y-%m-%d')}\")\n",
    "print(\"\\nComplete Account Analysis:\")\n",
    "display(account_analysis)\n"
   ]
  },
  {
   "cell_type": "code",
   "execution_count": null,
   "metadata": {},
   "outputs": [],
   "source": [
    "# Write account analysis to CSV file\n",
    "account_analysis.to_csv('out/accounts-with-users.csv', index=False)"
   ]
  },
  {
   "cell_type": "markdown",
   "metadata": {},
   "source": [
    "### Usernames and their last use\n",
    "Just a list of all API users and when there last transaction was."
   ]
  },
  {
   "cell_type": "code",
   "execution_count": null,
   "metadata": {},
   "outputs": [],
   "source": [
    "# Analysis: All Accounts with User Names, transaction count, and date range\n",
    "user_analysis = transactions.groupby(['User Name']).agg({\n",
    "    'PSP Reference': 'count',  # Count of transactions\n",
    "    'Creation Date': ['min', 'max']  # Earliest and latest dates\n",
    "}).reset_index()\n",
    "\n",
    "# Flatten the column names\n",
    "user_analysis.columns = ['User Name', 'Transaction Count', 'Earliest Transaction', 'Latest Transaction']\n",
    "\n",
    "# Sort by Account, then by Transaction Count descending\n",
    "user_analysis = user_analysis.sort_values(['Transaction Count', 'Latest Transaction'], ascending=[False, False])\n",
    "\n",
    "# Format the dates for better readability\n",
    "user_analysis['Earliest Transaction'] = user_analysis['Earliest Transaction'].dt.strftime('%Y-%m-%d %H:%M:%S')\n",
    "user_analysis['Latest Transaction'] = user_analysis['Latest Transaction'].dt.strftime('%Y-%m-%d %H:%M:%S')\n",
    "\n",
    "print(f\"Total active users: {len(user_analysis)}\")\n",
    "print(f\"Date range of all transactions: {transactions['Creation Date'].min().strftime('%Y-%m-%d')} to {transactions['Creation Date'].max().strftime('%Y-%m-%d')}\")\n",
    "display(user_analysis)"
   ]
  },
  {
   "cell_type": "code",
   "execution_count": null,
   "metadata": {},
   "outputs": [],
   "source": [
    "# Write account analysis to CSV file\n",
    "user_analysis.to_csv('out/active-users.csv', index=False)"
   ]
  },
  {
   "cell_type": "markdown",
   "metadata": {},
   "source": [
    "### Lets plot some graphs"
   ]
  },
  {
   "cell_type": "code",
   "execution_count": null,
   "metadata": {},
   "outputs": [],
   "source": [
    "CHF = 1.0671047\n",
    "DKK = 0.13404138\n",
    "EUR = 1\n",
    "GBP = 1.1874339\n",
    "MYR = 0.20705396\n",
    "USD = 0.87635219"
   ]
  },
  {
   "cell_type": "markdown",
   "metadata": {},
   "source": [
    "### Absolute income per currency"
   ]
  },
  {
   "cell_type": "code",
   "execution_count": null,
   "metadata": {},
   "outputs": [],
   "source": [
    "# Analysis: Income per month by currency\n",
    "import matplotlib.pyplot as plt\n",
    "\n",
    "# Filter for income transactions (positive values and successful statuses)\n",
    "income_transactions = transactions[\n",
    "    (transactions['Value'] > 0) & \n",
    "    (transactions['Status'].isin(['SettledBulk', 'Settled', 'Authorised']))\n",
    "].copy()\n",
    "\n",
    "# Extract year-month from Creation Date\n",
    "income_transactions['Year-Month'] = income_transactions['Creation Date'].dt.to_period('M')\n",
    "\n",
    "# Group by Currency and Year-Month, sum the values\n",
    "monthly_income_by_currency = income_transactions.groupby(['Currency', 'Year-Month'])['Value'].sum().reset_index()\n",
    "\n",
    "# Convert Year-Month back to datetime for plotting\n",
    "monthly_income_by_currency['Date'] = monthly_income_by_currency['Year-Month'].dt.to_timestamp()\n",
    "\n",
    "# Create the plot\n",
    "plt.figure(figsize=(15, 8))\n",
    "\n",
    "# Get unique currencies\n",
    "currencies = monthly_income_by_currency['Currency'].unique()\n",
    "\n",
    "# Create a line plot for each currency\n",
    "for currency in currencies:\n",
    "    currency_data = monthly_income_by_currency[monthly_income_by_currency['Currency'] == currency]\n",
    "    plt.plot(currency_data['Date'], currency_data['Value'], marker='o', linewidth=2, label=currency)\n",
    "\n",
    "plt.title('Monthly Income by Currency', fontsize=16, fontweight='bold')\n",
    "plt.xlabel('Month', fontsize=12)\n",
    "plt.ylabel('Income Amount', fontsize=12)\n",
    "plt.legend(title='Currency', bbox_to_anchor=(1.05, 1), loc='upper left')\n",
    "plt.grid(True, alpha=0.3)\n",
    "plt.xticks(rotation=45)\n",
    "\n",
    "# Format y-axis to show currency amounts nicely\n",
    "plt.gca().yaxis.set_major_formatter(plt.FuncFormatter(lambda x, p: f'{x:,.0f}'))\n",
    "\n",
    "plt.tight_layout()\n",
    "plt.show()\n",
    "\n",
    "# Display summary statistics\n",
    "print(f\"Total income transactions: {len(income_transactions):,}\")\n",
    "print(f\"Date range: {income_transactions['Creation Date'].min().strftime('%Y-%m-%d')} to {income_transactions['Creation Date'].max().strftime('%Y-%m-%d')}\")\n",
    "print(f\"Currencies with income: {', '.join(sorted(currencies))}\")\n",
    "print(f\"\\nTotal income by currency:\")\n",
    "total_by_currency = income_transactions.groupby('Currency')['Value'].sum().sort_values(ascending=False)\n",
    "for currency, total in total_by_currency.items():\n",
    "    print(f\"  {currency}: {total:,.2f}\")"
   ]
  },
  {
   "cell_type": "markdown",
   "metadata": {},
   "source": [
    "### Relative income per currency"
   ]
  },
  {
   "cell_type": "code",
   "execution_count": null,
   "metadata": {},
   "outputs": [],
   "source": [
    "# Create relative income graph where EUR average = 1\n",
    "import matplotlib.pyplot as plt\n",
    "import numpy as np\n",
    "\n",
    "# Exchange rates to EUR (from Cell 11)\n",
    "exchange_rates = {\n",
    "    'CHF': 1.0671047,\n",
    "    'DKK': 0.13404138,\n",
    "    'EUR': 1,\n",
    "    'GBP': 1.1874339,\n",
    "    'MYR': 0.20705396,\n",
    "    'USD': 0.87635219\n",
    "}\n",
    "\n",
    "# Convert all incomes to EUR equivalent\n",
    "monthly_income_eur = monthly_income_by_currency.copy()\n",
    "monthly_income_eur['Value_EUR'] = monthly_income_eur.apply(\n",
    "    lambda row: row['Value'] * exchange_rates[row['Currency']], axis=1\n",
    ")\n",
    "\n",
    "# Calculate average EUR income across all months\n",
    "eur_data = monthly_income_eur[monthly_income_eur['Currency'] == 'EUR']\n",
    "eur_average = eur_data['Value_EUR'].mean()\n",
    "\n",
    "# Create relative values where EUR average = 1\n",
    "monthly_income_eur['Relative_Value'] = monthly_income_eur['Value_EUR'] / eur_average\n",
    "\n",
    "# Create the plot\n",
    "plt.figure(figsize=(15, 10))\n",
    "\n",
    "# Get unique currencies and create colors\n",
    "currencies = sorted(monthly_income_eur['Currency'].unique())\n",
    "colors = plt.cm.Set3(np.linspace(0, 1, len(currencies)))\n",
    "\n",
    "# Create a line plot for each currency\n",
    "for i, currency in enumerate(currencies):\n",
    "    currency_data = monthly_income_eur[monthly_income_eur['Currency'] == currency]\n",
    "    plt.plot(currency_data['Date'], currency_data['Relative_Value'], \n",
    "             marker='o', linewidth=2.5, markersize=6, \n",
    "             label=currency, color=colors[i])\n",
    "\n",
    "# Add horizontal line at y=1 for reference (EUR average)\n",
    "plt.axhline(y=1, color='red', linestyle='--', alpha=0.7, linewidth=1, \n",
    "            label='EUR Average = 1')\n",
    "\n",
    "plt.title('Relative Monthly Income by Currency\\n(EUR Average = 1.0)', \n",
    "          fontsize=16, fontweight='bold')\n",
    "plt.xlabel('Month', fontsize=12)\n",
    "plt.ylabel('Relative Income (EUR Average = 1)', fontsize=12)\n",
    "plt.legend(title='Currency', bbox_to_anchor=(1.05, 1), loc='upper left')\n",
    "plt.grid(True, alpha=0.3)\n",
    "plt.xticks(rotation=45)\n",
    "\n",
    "# Format y-axis \n",
    "plt.gca().yaxis.set_major_formatter(plt.FuncFormatter(lambda x, p: f'{x:.2f}'))\n",
    "\n",
    "plt.tight_layout()\n",
    "plt.show()\n",
    "\n",
    "# Display summary statistics\n",
    "print(\"Exchange rates used (to EUR):\")\n",
    "for currency, rate in exchange_rates.items():\n",
    "    print(f\"  {currency}: {rate:.6f}\")\n",
    "\n",
    "print(f\"\\nEUR average monthly income: {eur_average:,.2f}\")\n",
    "print(f\"\\nAverage relative income by currency (EUR = 1.0):\")\n",
    "relative_averages = monthly_income_eur.groupby('Currency')['Relative_Value'].mean().sort_values(ascending=False)\n",
    "for currency, avg_relative in relative_averages.items():\n",
    "    print(f\"  {currency}: {avg_relative:.3f}\")"
   ]
  },
  {
   "cell_type": "markdown",
   "metadata": {},
   "source": [
    "### The 2 graphs next to each other"
   ]
  },
  {
   "cell_type": "markdown",
   "metadata": {},
   "source": [
    "# Display both absolute and relative income graphs side by side\n",
    "fig, (ax1, ax2) = plt.subplots(1, 2, figsize=(20, 8))\n",
    "\n",
    "# Left plot: Absolute income by currency (from Cell 10)\n",
    "currencies = monthly_income_by_currency['Currency'].unique()\n",
    "colors = plt.cm.Set3(np.linspace(0, 1, len(currencies)))\n",
    "\n",
    "for i, currency in enumerate(sorted(currencies)):\n",
    "    currency_data = monthly_income_by_currency[monthly_income_by_currency['Currency'] == currency]\n",
    "    ax1.plot(currency_data['Date'], currency_data['Value'], \n",
    "             marker='o', linewidth=2.5, markersize=6, \n",
    "             label=currency, color=colors[i])\n",
    "\n",
    "ax1.set_title('Monthly Income by Currency\\n(Absolute Values)', fontsize=14, fontweight='bold')\n",
    "ax1.set_xlabel('Month', fontsize=12)\n",
    "ax1.set_ylabel('Income Amount', fontsize=12)\n",
    "ax1.legend(title='Currency', bbox_to_anchor=(1.05, 1), loc='upper left')\n",
    "ax1.grid(True, alpha=0.3)\n",
    "ax1.tick_params(axis='x', rotation=45)\n",
    "ax1.yaxis.set_major_formatter(plt.FuncFormatter(lambda x, p: f'{x:,.0f}'))\n",
    "\n",
    "# Right plot: Relative income by currency (from Cell 12)\n",
    "for i, currency in enumerate(sorted(currencies)):\n",
    "    currency_data = monthly_income_eur[monthly_income_eur['Currency'] == currency]\n",
    "    ax2.plot(currency_data['Date'], currency_data['Relative_Value'], \n",
    "             marker='o', linewidth=2.5, markersize=6, \n",
    "             label=currency, color=colors[i])\n",
    "\n",
    "# Add horizontal line at y=1 for reference (EUR average)\n",
    "ax2.axhline(y=1, color='red', linestyle='--', alpha=0.7, linewidth=1, \n",
    "            label='EUR Average = 1')\n",
    "\n",
    "ax2.set_title('Relative Monthly Income by Currency\\n(EUR Average = 1.0)', fontsize=14, fontweight='bold')\n",
    "ax2.set_xlabel('Month', fontsize=12)\n",
    "ax2.set_ylabel('Relative Income (EUR Average = 1)', fontsize=12)\n",
    "ax2.legend(title='Currency', bbox_to_anchor=(1.05, 1), loc='upper left')\n",
    "ax2.grid(True, alpha=0.3)\n",
    "ax2.tick_params(axis='x', rotation=45)\n",
    "ax2.yaxis.set_major_formatter(plt.FuncFormatter(lambda x, p: f'{x:.2f}'))\n",
    "\n",
    "plt.tight_layout()\n",
    "plt.show()\n",
    "\n",
    "# Display comparison summary\n",
    "print(\"=== COMPARISON SUMMARY ===\")\n",
    "print(f\"Total currencies analyzed: {len(currencies)}\")\n",
    "print(f\"Date range: {monthly_income_by_currency['Date'].min().strftime('%Y-%m')} to {monthly_income_by_currency['Date'].max().strftime('%Y-%m')}\")\n",
    "\n",
    "print(f\"\\nAbsolute totals by currency:\")\n",
    "for currency in sorted(currencies):\n",
    "    currency_total = monthly_income_by_currency[monthly_income_by_currency['Currency'] == currency]['Value'].sum()\n",
    "    print(f\"  {currency}: {currency_total:,.2f}\")\n",
    "\n",
    "print(f\"\\nRelative averages by currency (EUR = 1.0):\")\n",
    "for currency, avg_relative in relative_averages.items():\n",
    "    print(f\"  {currency}: {avg_relative:.3f}\")"
   ]
  }
 ],
 "metadata": {
  "kernelspec": {
   "display_name": "analysis",
   "language": "python",
   "name": "python3"
  },
  "language_info": {
   "codemirror_mode": {
    "name": "ipython",
    "version": 3
   },
   "file_extension": ".py",
   "mimetype": "text/x-python",
   "name": "python",
   "nbconvert_exporter": "python",
   "pygments_lexer": "ipython3",
   "version": "3.13.2"
  }
 },
 "nbformat": 4,
 "nbformat_minor": 2
}
