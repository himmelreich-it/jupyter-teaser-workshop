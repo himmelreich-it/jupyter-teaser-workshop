{
 "cells": [
  {
   "cell_type": "markdown",
   "metadata": {},
   "source": [
    "# What to show\n",
    "* Why Python\n",
    "* What is a Jupyter Notebook\n",
    "* How I used Jupyter to investigate API User usage in Adyen\n",
    "* You will try some things out using Gemini with Movies data"
   ]
  },
  {
   "cell_type": "markdown",
   "metadata": {},
   "source": [
    "# Why Python\n",
    "\n",
    "* Easy to start with\n",
    "* Capable of strong organization if required\n",
    "* Used in Data Science & Machine Learning\n",
    "* Combination of \"jobs\" and \"services\":\n",
    "  * Jobs, things you run once, or once in a while (automation tasks)\n",
    "  * Services, can be things like APIs, running permanently\n",
    "\n",
    "**Conclusion: for me it is one language which allows me to do multiple things**"
   ]
  },
  {
   "cell_type": "markdown",
   "metadata": {},
   "source": [
    "# What is a Jupyter Notebook\n",
    "* Web-based python coding environment to create computational notebooks\n",
    "* Combine data, code & ui for analysis (or team presentations...)\n",
    "* At its core it is just Python, but organized for your convenience\n",
    "* Python scripts organized in blocks:\n",
    "  * Can be run top-to-bottom\n",
    "  * Variables from an already ran block are available in another block\n",
    "  * You can change and rerun code from block 2 while keeping what you did in block 1"
   ]
  },
  {
   "cell_type": "code",
   "execution_count": null,
   "metadata": {},
   "outputs": [],
   "source": [
    "print(\"This is a Jupyter Notebook!!!\")\n",
    "\n",
    "x = 48 # 1232\n",
    "y = 18 # 1656 "
   ]
  },
  {
   "cell_type": "code",
   "execution_count": null,
   "metadata": {},
   "outputs": [],
   "source": [
    "print(f\"{x} + {y} = {x + y}\")"
   ]
  },
  {
   "cell_type": "code",
   "execution_count": null,
   "metadata": {},
   "outputs": [],
   "source": [
    "# b moves to a, \n",
    "# b becomes the result of a mod b, \n",
    "# the final b when a mod b == 0 is the GCD\n",
    "def gcd(a, b):\n",
    "    while b:\n",
    "        a, b = b, a % b\n",
    "    return a\n",
    "\n",
    "result = gcd(x, y)\n",
    "print(f\"The Greatest Common Divisor of {x} and {y} is {result}\")\n"
   ]
  },
  {
   "cell_type": "markdown",
   "metadata": {},
   "source": [
    "## Whats next\n",
    "Lets go over some examples for what I did to find which API Users were being used by what systen in Adyen,"
   ]
  }
 ],
 "metadata": {
  "kernelspec": {
   "display_name": "analysis",
   "language": "python",
   "name": "python3"
  },
  "language_info": {
   "codemirror_mode": {
    "name": "ipython",
    "version": 3
   },
   "file_extension": ".py",
   "mimetype": "text/x-python",
   "name": "python",
   "nbconvert_exporter": "python",
   "pygments_lexer": "ipython3",
   "version": "3.13.2"
  }
 },
 "nbformat": 4,
 "nbformat_minor": 2
}
