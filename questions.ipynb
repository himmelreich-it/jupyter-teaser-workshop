{
 "cells": [
  {
   "cell_type": "markdown",
   "metadata": {},
   "source": [
    "# Analyze Movies\n",
    "This file is prepared to load some data about movies (80Mb CSV). It is a subset of 5 years (2016-2020) of the whole file: 500Mb.\n",
    "- Lines: 170,695\n",
    "- Columns: 29\n",
    "\n",
    "Remember:\n",
    "- Each cell can be run independently and variables from above are available at the bottom.\n",
    "- dataframe.head(10) shows you the first 10 items from a dataframe (5 is default).\n",
    "- Use Gemini to create the code and fix your problems, just try to read and see whether it is working.\n",
    "- Ask Gemini things in steps and refer to previous steps:\n",
    "  - *Filter the list on A and B*\n",
    "  - *Group on A and average B*\n",
    "  - *Group by Average B*"
   ]
  },
  {
   "cell_type": "markdown",
   "metadata": {},
   "source": [
    "---\n",
    "# Load the data\n",
    "Run the cell below once to load all movies data in a Pandas Dataframe. Consider a Dataframe as a Table on Steroids."
   ]
  },
  {
   "cell_type": "code",
   "execution_count": null,
   "metadata": {},
   "outputs": [],
   "source": [
    "import pandas as pd\n",
    "import matplotlib.pyplot as plt\n",
    "import numpy as np\n",
    "from scipy import stats\n",
    "\n",
    "\n",
    "# Load the movies data into a DataFrame\n",
    "movies_url = \"https://github.com/himmelreich-it/jupyter-teaser-workshop/raw/refs/heads/main/recent_movies.zip\"\n",
    "df = pd.read_csv(movies_url, compression='zip')\n",
    "\n",
    "print(f\"{len(df):,}\")\n"
   ]
  },
  {
   "cell_type": "code",
   "execution_count": null,
   "metadata": {},
   "outputs": [],
   "source": [
    "print(df.shape)\n",
    "df.head()"
   ]
  },
  {
   "cell_type": "markdown",
   "metadata": {},
   "source": [
    "---\n",
    "# Number of movies per year\n",
    "Aggregate the number of movies per year"
   ]
  },
  {
   "cell_type": "code",
   "execution_count": null,
   "metadata": {},
   "outputs": [],
   "source": [
    "# code"
   ]
  },
  {
   "cell_type": "markdown",
   "metadata": {},
   "source": [
    "---\n",
    "# Average IMDB rating per director\n",
    "\n",
    "- Extra: Add Standard Deviation and Movie Count\n",
    "- Extra 2: Only directors with more than 5 movies are included"
   ]
  },
  {
   "cell_type": "code",
   "execution_count": null,
   "metadata": {},
   "outputs": [],
   "source": [
    "# code"
   ]
  },
  {
   "cell_type": "markdown",
   "metadata": {},
   "source": [
    "---\n",
    "# Highest rated movies (20) below 100,000 USD\n",
    "Lets exclude short movies, defined as <80min and make sure we only include movies with a large voting base."
   ]
  },
  {
   "cell_type": "code",
   "execution_count": null,
   "metadata": {},
   "outputs": [],
   "source": [
    "# code"
   ]
  },
  {
   "cell_type": "markdown",
   "metadata": {},
   "source": [
    "---\n",
    "# Do longer movies cost more\n",
    "\n",
    "Is there a correlation between the length of a movie and the cost associated with.\n",
    "- Do we need to exclude outliers in budget?\n",
    "- Do we only want to focus on \"normal\" movie length, 80-150min, or simply cater for outliers?\n",
    "- Do we want to show some graphs?\n"
   ]
  },
  {
   "cell_type": "code",
   "execution_count": null,
   "metadata": {},
   "outputs": [],
   "source": [
    "# code"
   ]
  },
  {
   "cell_type": "markdown",
   "metadata": {},
   "source": [
    "---\n",
    "# Do longer movies get a better rating\n",
    "\n",
    "Is there a correlation between IMDB Rating and the Length of the Movie...\n",
    "- Do we need to exclude outliers in rating?\n",
    "- Do we only want to focus on \"normal\" movie length, 80-150min, or simply cater for outliers?\n",
    "- Do we want to show some graphs?"
   ]
  },
  {
   "cell_type": "code",
   "execution_count": null,
   "metadata": {},
   "outputs": [],
   "source": [
    "# code"
   ]
  }
 ],
 "metadata": {
  "kernelspec": {
   "display_name": "analysis",
   "language": "python",
   "name": "python3"
  },
  "language_info": {
   "codemirror_mode": {
    "name": "ipython",
    "version": 3
   },
   "file_extension": ".py",
   "mimetype": "text/x-python",
   "name": "python",
   "nbconvert_exporter": "python",
   "pygments_lexer": "ipython3",
   "version": "3.13.2"
  }
 },
 "nbformat": 4,
 "nbformat_minor": 2
}
